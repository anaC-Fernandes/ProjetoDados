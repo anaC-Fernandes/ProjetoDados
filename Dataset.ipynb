{
 "cells": [
  {
   "cell_type": "markdown",
   "id": "b98c6e59",
   "metadata": {
    "colab_type": "text",
    "id": "view-in-github"
   },
   "source": [
    "<a href=\"https://colab.research.google.com/github/anaC-Fernandes/ProjetoDados/blob/main/Untitled1.ipynb\" target=\"_parent\"><img src=\"https://colab.research.google.com/assets/colab-badge.svg\" alt=\"Open In Colab\"/></a>"
   ]
  },
  {
   "cell_type": "markdown",
   "id": "07bf557e",
   "metadata": {},
   "source": [
    "# **📈 Economia**"
   ]
  },
  {
   "cell_type": "code",
   "execution_count": null,
   "id": "af80654b",
   "metadata": {
    "id": "pV8HKmz9sBu8"
   },
   "outputs": [],
   "source": [
    "import pandas as pd\n",
    "import numpy as np"
   ]
  },
  {
   "cell_type": "code",
   "execution_count": null,
   "id": "22e24a6f",
   "metadata": {
    "colab": {
     "base_uri": "https://localhost:8080/",
     "height": 513
    },
    "id": "iWEmu4kesOri",
    "outputId": "deae5fe0-6fc1-4f43-8d25-550fefb529d1"
   },
   "outputs": [],
   "source": [
    "df = pd.read_csv('https://raw.githubusercontent.com/anaC-Fernandes/ProjetoDados/refs/heads/main/BrStats.csv', sep = \";\", low_memory=False)\n",
    "df"
   ]
  },
  {
   "cell_type": "code",
   "execution_count": null,
   "id": "7e588444",
   "metadata": {
    "id": "2onFsGsgrSnQ"
   },
   "outputs": [],
   "source": [
    "for coluna in df.columns:\n",
    "    df[coluna] = df[coluna].astype(str)  # Garante que é string\n",
    "    df[coluna] = df[coluna].str.replace('.', '', regex=False)  # Remove separador de milhar\n",
    "    df[coluna] = df[coluna].str.replace(',', '.', regex=False)  # Converte decimal\n",
    "    df[coluna] = pd.to_numeric(df[coluna], errors='ignore')  # Converte para número, ignorando erros\n",
    "df\n",
    "\n",
    "for coluna in df.columns:\n",
    "  df[coluna] = df[coluna].astype(str)  # Garante que é string\n",
    "  df[coluna] = df[coluna].str.replace('nan', '0', regex=False)  # Converte decimal\n",
    "\n",
    "df"
   ]
  },
  {
   "cell_type": "code",
   "execution_count": null,
   "id": "51cbfff1",
   "metadata": {
    "id": "M8UTCQegw3ad"
   },
   "outputs": [],
   "source": [
    "df['Ano'] = df['Ano'].astype(int)\n",
    "df['CDMunicipio'] = df['CDMunicipio'].astype(str)\n",
    "df['Populacao'] = df['Populacao'].astype(int)\n",
    "df['PessoalOcupado'] = df['PessoalOcupado'].astype(int)\n",
    "df['PessoalAssalariado'] = df['PessoalAssalariado'].astype(int)\n",
    "df['VrSalarios'] = df['VrSalarios'].astype(int)\n",
    "df['PIB'] = df['PIB'].astype(int)\n",
    "df['QtEmpresas'] = df['QtEmpresas'].astype(int)\n",
    "df['AreaPlantada_h'] = df['AreaPlantada_h'].astype(int)\n",
    "df['AreaColhida_h'] = df['AreaColhida_h'].astype(int)\n",
    "df['VlProducaoAgricola'] = df['VlProducaoAgricola'].astype(int)\n",
    "df['VlProducaoPecuaria'] = df['VlProducaoPecuaria'].astype(int)\n",
    "df['Area'] = df['Area'].astype(float)\n",
    "df['Importacoes_US$'] = df['Importacoes_US$'].astype(float)\n",
    "df['Exportacoes_US$'] = df['Exportacoes_US$'].astype(float)\n",
    "df['Receitas_R$'] = df['Receitas_R$'].astype(float)\n",
    "df['Transferencias_correntes_R$'] = df['Transferencias_correntes_R$'].astype(float)\n",
    "df['Transferencias_capital_R$'] = df['Transferencias_capital_R$'].astype(float)\n",
    "df['NrNascimentos'] = df['NrNascimentos'].astype(int)\n",
    "df['NrObitosInfantis'] = df['NrObitosInfantis'].astype(int)\n",
    "df['povoamento'] = df['povoamento'].astype(float)\n",
    "\n"
   ]
  },
  {
   "cell_type": "markdown",
   "id": "5d144b12",
   "metadata": {},
   "source": [
    "# **📉 Crise**"
   ]
  },
  {
   "cell_type": "markdown",
   "id": "2e3bc163",
   "metadata": {},
   "source": [
    "## **📉 9. A partir da análise do PIB, quais municípios se recuperaram da recessão de 2014-2016?**"
   ]
  },
  {
   "cell_type": "markdown",
   "id": "f8b40315",
   "metadata": {},
   "source": [
    "### **Manipulação Inicial do dados sobre Crise**"
   ]
  },
  {
   "cell_type": "code",
   "execution_count": null,
   "id": "21a26f6d",
   "metadata": {
    "id": "9HpZhWKYCko7"
   },
   "outputs": [],
   "source": [
    "import pandas as pd\n",
    "import numpy as np"
   ]
  },
  {
   "cell_type": "markdown",
   "id": "28878b75",
   "metadata": {},
   "source": [
    "### **Tabela BrStats**"
   ]
  },
  {
   "cell_type": "markdown",
   "id": "be79de3c",
   "metadata": {},
   "source": [
    "Lendo o arquivo **BrStats** e definindo ';' como separador."
   ]
  },
  {
   "cell_type": "code",
   "execution_count": null,
   "id": "9236e9d0",
   "metadata": {
    "colab": {
     "base_uri": "https://localhost:8080/",
     "height": 513
    },
    "collapsed": true,
    "id": "ZBEbU2Dlxe9t",
    "outputId": "1fd4b23a-6a38-4725-b91f-70457d52a846"
   },
   "outputs": [],
   "source": [
    "dados = pd.read_csv('Datasets/BrStats.csv', sep = ';', low_memory= False)\n",
    "dados"
   ]
  },
  {
   "cell_type": "markdown",
   "id": "5a1ba643",
   "metadata": {},
   "source": [
    "Exibindo todas a linhas e colunas do dataset."
   ]
  },
  {
   "cell_type": "code",
   "execution_count": null,
   "id": "4c4bf9e2",
   "metadata": {
    "colab": {
     "base_uri": "https://localhost:8080/"
    },
    "id": "5JhEajIyQ0Wi",
    "outputId": "1a66d18d-7045-4d75-856d-e80270c8adac"
   },
   "outputs": [],
   "source": [
    "pd.set_option('display.max_rows', None)  \n",
    "pd.set_option('display.max_columns', None) \n",
    "\n",
    "dados"
   ]
  },
  {
   "cell_type": "markdown",
   "id": "ddbd1aa4",
   "metadata": {
    "id": "N81aOE1pvIZT"
   },
   "source": [
    "### **Tabela BrStats contendo apenas 'UF', 'Municipio', 'Regiao'e 'PIB'**"
   ]
  },
  {
   "cell_type": "markdown",
   "id": "a4ee7931",
   "metadata": {},
   "source": [
    "Para responder a pergunta **9. A partir da análise do PIB, quais municípios se recuperaram da recessão de 2014-2016?** precisaremos apenas dos seguintes dados:\n",
    "- UF\n",
    "- Municipio\n",
    "- Regiao\n",
    "- PIB\n",
    "- Ano\n",
    "\n",
    "Por esse motivo fizemos uma filtragem na tabela BrStats, retirando os dados não necessãrios para essa pergunta."
   ]
  },
  {
   "cell_type": "code",
   "execution_count": null,
   "id": "e4bcf883",
   "metadata": {
    "colab": {
     "base_uri": "https://localhost:8080/",
     "height": 1000
    },
    "collapsed": true,
    "id": "z_B-IuuuvMrK",
    "outputId": "f83a2e8e-742c-4343-f7d8-a27ea9786ac5"
   },
   "outputs": [],
   "source": [
    "dados_filtrados = dados[['UF', 'Municipio', 'Regiao', 'PIB', 'Ano']]\n",
    "\n",
    "dados_filtrados"
   ]
  },
  {
   "cell_type": "markdown",
   "id": "34f2a7ac",
   "metadata": {},
   "source": [
    "É possível salvar a nova tabela em um arquivo .csv separado:"
   ]
  },
  {
   "cell_type": "code",
   "execution_count": null,
   "id": "416dae99",
   "metadata": {
    "id": "eJjXDW0cvlzy"
   },
   "outputs": [],
   "source": [
    "dados_filtrados.to_csv(\"Datasets/BrStats_crise.csv\", index=False)"
   ]
  },
  {
   "cell_type": "markdown",
   "id": "1b8583ca",
   "metadata": {
    "id": "B8zXzO2NgwLW"
   },
   "source": [
    "### **Tabela sidra**"
   ]
  },
  {
   "cell_type": "markdown",
   "id": "e4142302",
   "metadata": {},
   "source": [
    "Como mencionado no README, fizemos uma busca no Sidra para encontrar dados do PIB dos municípios brasileiros dos anos de 2013 (anterior a crise) até 2016 (fim da crise), o arquivo gerado é o sidra.csv.\n",
    "\n",
    "Abaixo estamos carregando e manipulando o arquivo sidra, para que possamos unir as duas tabelas de dados."
   ]
  },
  {
   "cell_type": "code",
   "execution_count": null,
   "id": "dafb7cc0",
   "metadata": {
    "colab": {
     "base_uri": "https://localhost:8080/"
    },
    "id": "bmtHtf-636lU",
    "outputId": "08f8ee5c-371b-4695-b7d4-5e9d5d1ad609"
   },
   "outputs": [],
   "source": [
    "# Carregando o arquivo CSV com a codificação correta UTF-8, pois estava perdendo acentos\n",
    "dados_sidra = pd.read_csv('Datasets/sidra.csv', skiprows=1, encoding='utf-8')\n",
    "\n",
    "# Renomeando as colunas\n",
    "dados_sidra.columns = ['Município', '2013', '2014', '2015', '2016', '2017']\n",
    "\n",
    "# Removendo linhas sem dados úteis que vieram do PDF (Fonte, Notas, etc.)\n",
    "dados_sidra = dados_sidra.dropna() \n",
    "dados_sidra = dados_sidra[~dados_sidra['Município'].str.contains('Fonte:|Notas|1 -', na=False)] \n",
    "\n",
    "# Salvando o arquivo corrigido com codificação UTF-8\n",
    "dados_sidra.to_csv('Datasets/sidra_limpos.csv', index=False, encoding='utf-8-sig')"
   ]
  },
  {
   "cell_type": "markdown",
   "id": "28b43804",
   "metadata": {},
   "source": [
    "Um detalhe a ser corrigido antes de unirmos as tabelas do BrStats com a do Sidra é a maneira como municípios e UF estão registrados, enquanto o dataset BrStats possui uma coluna chamada 'UF', o dataset do Sidra escreve a UF na mesma coluna do município, e por isso devemos criar uma nova coluna nesse dataset."
   ]
  },
  {
   "cell_type": "code",
   "execution_count": null,
   "id": "077b80ba",
   "metadata": {
    "colab": {
     "base_uri": "https://localhost:8080/",
     "height": 1000
    },
    "collapsed": true,
    "id": "5v8WSmR29eF0",
    "outputId": "47583ece-27de-4e2f-ff25-e732d5e60e6e"
   },
   "outputs": [],
   "source": [
    "# Criando a coluna UF\n",
    "if 'UF' not in dados_sidra.columns:\n",
    "    dados_sidra['UF'] = ''\n",
    "\n",
    "# Separaando Município e UF\n",
    "dados_sidra[['Município', 'UF']] = dados_sidra['Município'].str.extract(r'(.+) \\((\\w{2})\\)')\n",
    "\n",
    "dados_sidra"
   ]
  },
  {
   "cell_type": "markdown",
   "id": "eef6780b",
   "metadata": {},
   "source": [
    "### **Unindo os dois Datasets**"
   ]
  },
  {
   "cell_type": "markdown",
   "id": "2cecd399",
   "metadata": {},
   "source": [
    "O dataset BrStats não possui colunas específicas para os anos em que os PIBs foram registrados, então optamos por fazer divisão para facilitar a análise."
   ]
  },
  {
   "cell_type": "code",
   "execution_count": null,
   "id": "3e8a3ceb",
   "metadata": {
    "colab": {
     "base_uri": "https://localhost:8080/",
     "height": 1000
    },
    "collapsed": true,
    "id": "PIg5lgqMHLHr",
    "outputId": "1fb3b143-448b-43b6-fc57-a598b88548b4"
   },
   "outputs": [],
   "source": [
    "# Criando um DataFrame onde cada ano vira uma coluna\n",
    "dados = dados.pivot_table(\n",
    "    index=['UF', 'Municipio', 'Regiao'],  # Colunas que permanecerão como índice\n",
    "    columns='Ano',                        # Coluna que será transformada em novas colunas\n",
    "    values='PIB',                         # Valores que preencherão as novas colunas\n",
    "    aggfunc='first'                       # Função de agregação (usamos 'first' pois não há duplicatas)\n",
    ")\n",
    "\n",
    "# Resetar o índice para trazer UF, Municipio e Regiao de volta como colunas\n",
    "dados = dados.reset_index()\n",
    "\n",
    "dados"
   ]
  },
  {
   "cell_type": "markdown",
   "id": "baf4e9b1",
   "metadata": {},
   "source": [
    "Outro problema a ser corrigido é a coluna 'Municipio' no dataset do Sidra, que possui acentuação, enquanto a do BrStats não possui, e precisaremos que elas possuam nomeclatura idêntica para uni-las."
   ]
  },
  {
   "cell_type": "code",
   "execution_count": null,
   "id": "b87795fb",
   "metadata": {
    "colab": {
     "base_uri": "https://localhost:8080/"
    },
    "id": "IWIbFPjHOqld",
    "outputId": "bc539af3-f525-4b03-da2b-98642385a902"
   },
   "outputs": [],
   "source": [
    "dados_sidra = dados_sidra.rename(columns={'Município': 'Municipio'})"
   ]
  },
  {
   "cell_type": "markdown",
   "id": "ab5779dd",
   "metadata": {},
   "source": [
    "Unindo os dois datasets utilizando como base as colunas 'Municipio' e 'UF'."
   ]
  },
  {
   "cell_type": "code",
   "execution_count": null,
   "id": "ae78e8e1",
   "metadata": {
    "colab": {
     "base_uri": "https://localhost:8080/",
     "height": 1000
    },
    "collapsed": true,
    "id": "vRtNJJQBVijd",
    "outputId": "76dc6e30-8b3e-4a77-d92c-d235a72382d7"
   },
   "outputs": [],
   "source": [
    "dados_crise = dados.merge(dados_sidra, on=['Municipio', 'UF'])\n",
    "\n",
    "# Salvar o arquivo corrigido com codificação UTF-8\n",
    "dados_crise.to_csv('Datasets/dados_crise.csv', index=False, encoding='utf-8-sig')\n",
    "\n",
    "dados_crise"
   ]
  },
  {
   "cell_type": "markdown",
   "id": "3ace0c35",
   "metadata": {},
   "source": [
    "É possível perceber que o dataset ainda precisa de alguns ajustes, como ordenar corretamente os anos e remover os que se repetem."
   ]
  },
  {
   "cell_type": "code",
   "execution_count": null,
   "id": "94c7bd01",
   "metadata": {},
   "outputs": [],
   "source": [
    "dados_crise = pd.read_csv('Datasets/dados_crise.csv')\n",
    "dados_crise"
   ]
  },
  {
   "cell_type": "code",
   "execution_count": null,
   "id": "7706363c",
   "metadata": {
    "colab": {
     "base_uri": "https://localhost:8080/",
     "height": 1000
    },
    "collapsed": true,
    "id": "9oZfkdNuoDVO",
    "outputId": "93562d2e-5613-4c25-feff-d71634372838"
   },
   "outputs": [],
   "source": [
    "# Removendo colunas duplicadas\n",
    "cols_to_remove = ['2016.1', '2017.1']\n",
    "dados_crise = dados_crise.drop(columns=[col for col in cols_to_remove if col in dados_crise.columns])\n",
    "\n",
    "# Reordenando colunas\n",
    "fixed_cols = ['UF', 'Municipio', 'Regiao']\n",
    "year_cols = sorted([col for col in dados_crise.columns if col.isdigit()])\n",
    "dados_crise = dados_crise[fixed_cols + year_cols]\n",
    "\n",
    "# Salvando o resultado\n",
    "output_file = 'Datasets/dados_final.csv'\n",
    "dados_crise.to_csv(output_file, index=False)\n",
    "\n",
    "dados_crise"
   ]
  },
  {
   "cell_type": "markdown",
   "id": "435ec7bf",
   "metadata": {},
   "source": [
    "Com isso obtivemos um dataset com apenas os dados necessários para a análise do PIB antes, durante e depois da crise de 2014-2016."
   ]
  },
  {
   "cell_type": "markdown",
   "id": "ee610681",
   "metadata": {},
   "source": [
    "## **📉 10. Como a taxa de desemprego e o PIB foram afetadas durante a pandemia**"
   ]
  },
  {
   "cell_type": "code",
   "execution_count": null,
   "id": "2bc33e64",
   "metadata": {
    "id": "M8UTCQegw3ad"
   },
   "outputs": [],
   "source": [
    "# Tratamento da formatação dos dados\n",
    "for coluna in df.columns:\n",
    "    df[coluna] = df[coluna].astype(str)  # Garante que é string\n",
    "    df[coluna] = df[coluna].str.replace('.', '', regex=False)  # Remove separador de milhar\n",
    "    df[coluna] = df[coluna].str.replace(',', '.', regex=False)  # Converte decimal\n",
    "    df[coluna] = pd.to_numeric(df[coluna], errors='ignore')  # Converte para número, ignorando erros\n",
    "df\n",
    "\n",
    "for coluna in df.columns:\n",
    "  df[coluna] = df[coluna].astype(str)  # Garante que é string\n",
    "  df[coluna] = df[coluna].str.replace('nan', '0', regex=False)  # Converte decimal\n",
    "\n",
    "df\n",
    "\n",
    "# Tratamento de tipo\n",
    "\n",
    "df['Ano'] = df['Ano'].astype(int)\n",
    "df['CDMunicipio'] = df['CDMunicipio'].astype(str)\n",
    "df['Populacao'] = df['Populacao'].astype(int)\n",
    "df['PessoalOcupado'] = df['PessoalOcupado'].astype(int)\n",
    "df['PessoalAssalariado'] = df['PessoalAssalariado'].astype(int)\n",
    "df['VrSalarios'] = df['VrSalarios'].astype(int)\n",
    "df['PIB'] = df['PIB'].astype(int)\n",
    "df['QtEmpresas'] = df['QtEmpresas'].astype(int)\n",
    "df['AreaPlantada_h'] = df['AreaPlantada_h'].astype(int)\n",
    "df['AreaColhida_h'] = df['AreaColhida_h'].astype(int)\n",
    "df['VlProducaoAgricola'] = df['VlProducaoAgricola'].astype(int)\n",
    "df['VlProducaoPecuaria'] = df['VlProducaoPecuaria'].astype(int)\n",
    "df['Area'] = df['Area'].astype(float)\n",
    "df['Importacoes_US$'] = df['Importacoes_US$'].astype(float)\n",
    "df['Exportacoes_US$'] = df['Exportacoes_US$'].astype(float)\n",
    "df['Receitas_R$'] = df['Receitas_R$'].astype(float)\n",
    "df['Transferencias_correntes_R$'] = df['Transferencias_correntes_R$'].astype(float)\n",
    "df['Transferencias_capital_R$'] = df['Transferencias_capital_R$'].astype(float)\n",
    "df['NrNascimentos'] = df['NrNascimentos'].astype(int)\n",
    "df['NrObitosInfantis'] = df['NrObitosInfantis'].astype(int)\n",
    "df['povoamento'] = df['povoamento'].astype(float)\n",
    "\n"
   ]
  },
  {
   "cell_type": "code",
   "execution_count": null,
   "id": "a8dbcdee",
   "metadata": {
    "colab": {
     "base_uri": "https://localhost:8080/",
     "height": 423
    },
    "id": "pd6R3wQpgBNx",
    "outputId": "db00310d-b345-4352-a1f3-d6074cb880a5"
   },
   "outputs": [],
   "source": [
    "#tabela usada pra analisar os anos da Covid\n",
    "tabela = df\n",
    "tabela = tabela.drop(columns='AreaPlantada_h')\n",
    "tabela = tabela.drop(columns='AreaColhida_h')\n",
    "tabela = tabela.drop(columns='NrNascimentos')\n",
    "tabela = tabela.drop(columns='NrObitosInfantis')\n",
    "tabela = tabela.drop(columns='Area')\n",
    "tabela = tabela.drop(columns='Importacoes_US$')\n",
    "tabela = tabela.drop(columns='Exportacoes_US$')\n",
    "tabela = tabela.drop(columns='Receitas_R$')\n",
    "tabela = tabela.drop(columns='Transferencias_correntes_R$')\n",
    "tabela = tabela.drop(columns='Transferencias_capital_R$')\n",
    "tabela = tabela.drop(columns='VlProducaoAgricola')\n",
    "tabela = tabela.drop(columns='VlProducaoPecuaria')"
   ]
  },
  {
   "cell_type": "code",
   "execution_count": null,
   "id": "156264b5",
   "metadata": {
    "colab": {
     "base_uri": "https://localhost:8080/",
     "height": 423
    },
    "id": "PkCdoKzYiqou",
    "outputId": "b955370b-bef8-4a4e-ff9d-d44aa5703aef"
   },
   "outputs": [],
   "source": [
    "tabela['PIB_per_capita'] = tabela['PIB'] / tabela['Populacao'].replace(0, pd.NA)\n",
    "tabela.sort_values(by='PIB_per_capita', ascending=False)\n"
   ]
  }
 ],
 "metadata": {
  "kernelspec": {
   "display_name": "Python 3",
   "language": "python",
   "name": "python3"
  },
  "language_info": {
   "codemirror_mode": {
    "name": "ipython",
    "version": 3
   },
   "file_extension": ".py",
   "mimetype": "text/x-python",
   "name": "python",
   "nbconvert_exporter": "python",
   "pygments_lexer": "ipython3",
   "version": "3.12.5"
  }
 },
 "nbformat": 4,
 "nbformat_minor": 5
}
