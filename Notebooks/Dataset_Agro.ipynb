{
  "cells": [
    {
      "cell_type": "markdown",
      "metadata": {
        "colab_type": "text",
        "id": "view-in-github"
      },
      "source": [
        "<a href=\"https://colab.research.google.com/github/anaC-Fernandes/ProjetoDados/blob/main/Untitled1.ipynb\" target=\"_parent\"><img src=\"https://colab.research.google.com/assets/colab-badge.svg\" alt=\"Open In Colab\"/></a>"
      ]
    },
    {
      "cell_type": "code",
      "execution_count": null,
      "metadata": {},
      "outputs": [],
      "source": [
        "!pip install pandas\n",
        "!pip install numpy\n",
        "!pip install matplotlib\n",
        "!pip install seaborn"
      ]
    },
    {
      "cell_type": "code",
      "execution_count": null,
      "metadata": {
        "id": "pV8HKmz9sBu8"
      },
      "outputs": [],
      "source": [
        "import pandas as pd\n",
        "import numpy as np\n",
        "import matplotlib.pyplot as plt\n",
        "import seaborn as sns"
      ]
    },
    {
      "cell_type": "code",
      "execution_count": null,
      "metadata": {
        "colab": {
          "base_uri": "https://localhost:8080/",
          "height": 513
        },
        "id": "iWEmu4kesOri",
        "outputId": "deae5fe0-6fc1-4f43-8d25-550fefb529d1"
      },
      "outputs": [],
      "source": [
        "df = pd.read_csv('https://raw.githubusercontent.com/anaC-Fernandes/ProjetoDados/refs/heads/main/BrStats.csv', sep = \";\", low_memory=False)\n",
        "df"
      ]
    },
    {
      "cell_type": "code",
      "execution_count": null,
      "metadata": {
        "id": "2onFsGsgrSnQ"
      },
      "outputs": [],
      "source": [
        "for coluna in df.columns:\n",
        "    df[coluna] = df[coluna].astype(str)  # Garante que é string\n",
        "    df[coluna] = df[coluna].str.replace('.', '', regex=False)  # Remove separador de milhar\n",
        "    df[coluna] = df[coluna].str.replace(',', '.', regex=False)  # Converte decimal\n",
        "    df[coluna] = pd.to_numeric(df[coluna], errors='ignore')  # Converte para número, ignorando erros\n",
        "df\n",
        "\n",
        "for coluna in df.columns:\n",
        "  df[coluna] = df[coluna].astype(str)  # Garante que é string\n",
        "  df[coluna] = df[coluna].str.replace('nan', '0', regex=False)  # Converte decimal\n",
        "\n",
        "df"
      ]
    },
    {
      "cell_type": "code",
      "execution_count": null,
      "metadata": {
        "id": "M8UTCQegw3ad"
      },
      "outputs": [],
      "source": [
        "df['Ano'] = df['Ano'].astype(int)\n",
        "df['CDMunicipio'] = df['CDMunicipio'].astype(str)\n",
        "df['Populacao'] = df['Populacao'].astype(int)\n",
        "df['PessoalOcupado'] = df['PessoalOcupado'].astype(int)\n",
        "df['PessoalAssalariado'] = df['PessoalAssalariado'].astype(int)\n",
        "df['VrSalarios'] = df['VrSalarios'].astype(int)\n",
        "df['PIB'] = df['PIB'].astype(int)\n",
        "df['QtEmpresas'] = df['QtEmpresas'].astype(int)\n",
        "df['AreaPlantada_h'] = df['AreaPlantada_h'].astype(int)\n",
        "df['AreaColhida_h'] = df['AreaColhida_h'].astype(int)\n",
        "df['VlProducaoAgricola'] = df['VlProducaoAgricola'].astype(int)\n",
        "df['VlProducaoPecuaria'] = df['VlProducaoPecuaria'].astype(int)\n",
        "df['Area'] = df['Area'].astype(float)\n",
        "df['Importacoes_US$'] = df['Importacoes_US$'].astype(float)\n",
        "df['Exportacoes_US$'] = df['Exportacoes_US$'].astype(float)\n",
        "df['Receitas_R$'] = df['Receitas_R$'].astype(float)\n",
        "df['Transferencias_correntes_R$'] = df['Transferencias_correntes_R$'].astype(float)\n",
        "df['Transferencias_capital_R$'] = df['Transferencias_capital_R$'].astype(float)\n",
        "df['NrNascimentos'] = df['NrNascimentos'].astype(int)\n",
        "df['NrObitosInfantis'] = df['NrObitosInfantis'].astype(int)\n",
        "df['povoamento'] = df['povoamento'].astype(float)\n",
        "\n"
      ]
    },
    {
      "cell_type": "code",
      "execution_count": null,
      "metadata": {},
      "outputs": [],
      "source": [
        "import matplotlib.pyplot as plt\n",
        "import seaborn as sns\n",
        "\n",
        "# Dados agrupados por ano\n",
        "df_grouped = df.groupby('Ano')[['AreaPlantada_h', 'AreaColhida_h']].sum().reset_index()\n",
        "\n",
        "# Gráfico de linhas comparativo\n",
        "plt.figure(figsize=(12, 6))\n",
        "plt.plot(df_grouped['Ano'], df_grouped['AreaPlantada_h'], marker='o', label='Área Plantada')\n",
        "plt.plot(df_grouped['Ano'], df_grouped['AreaColhida_h'], marker='o', label='Área Colhida')\n",
        "plt.xlabel('Ano')\n",
        "plt.ylabel('Área (hectares)')\n",
        "plt.title('Área Plantada vs. Área Colhida ao Longo do Tempo')\n",
        "plt.legend()\n",
        "plt.grid(True)\n",
        "plt.show()\n",
        "\n",
        "# Discrepância anual\n",
        "df_grouped['Discrepância'] = df_grouped['AreaPlantada_h'] - df_grouped['AreaColhida_h']\n",
        "plt.figure(figsize=(12, 6))\n",
        "plt.bar(df_grouped['Ano'], df_grouped['Discrepância'], color='red')\n",
        "plt.xlabel('Ano')\n",
        "plt.ylabel('Diferença (hectares)')\n",
        "plt.title('Discrepância entre Área Plantada e Colhida por Ano')\n",
        "plt.show()"
      ]
    },
    {
      "cell_type": "markdown",
      "metadata": {},
      "source": [
        "Uma discrepância crescente pode indicar perdas por fatores climáticos, pragas ou mudanças no uso do solo."
      ]
    },
    {
      "cell_type": "code",
      "execution_count": null,
      "metadata": {},
      "outputs": [],
      "source": [
        "# Scatter plot com tendência\n",
        "plt.figure(figsize=(12, 6))\n",
        "sns.regplot(x='povoamento', y='AreaPlantada_h', data=df, scatter_kws={'alpha':0.3})\n",
        "plt.xlabel('Povoamento (habitantes por área)')\n",
        "plt.ylabel('Área Plantada (hectares)')\n",
        "plt.title('Relação entre Densidade Populacional e Área Plantada')\n",
        "plt.show()"
      ]
    },
    {
      "cell_type": "markdown",
      "metadata": {},
      "source": [
        "Uma correlação positiva sugeriria que regiões mais povoadas investem mais em agricultura."
      ]
    },
    {
      "cell_type": "markdown",
      "metadata": {
        "id": "7fzfHuCsuUzq"
      },
      "source": []
    },
    {
      "cell_type": "code",
      "execution_count": null,
      "metadata": {},
      "outputs": [],
      "source": [
        "# Scatter plot com correlação\n",
        "plt.figure(figsize=(12, 6))\n",
        "sns.scatterplot(x='VlProducaoAgricola', y='VlProducaoPecuaria', data=df, hue='Ano', palette='viridis')\n",
        "plt.xlabel('Valor da Produção Agrícola (R$)')\n",
        "plt.ylabel('Valor da Produção Pecuária (R$)')\n",
        "plt.title('Correlação entre Produção Agrícola e Pecuária')\n",
        "plt.show()\n",
        "\n",
        "# Correlação estatística\n",
        "correlacao = df[['VlProducaoAgricola', 'VlProducaoPecuaria']].corr().iloc[0,1]\n",
        "print(f\"Correlação: {correlacao:.2f}\")"
      ]
    },
    {
      "cell_type": "code",
      "execution_count": null,
      "metadata": {},
      "outputs": [],
      "source": [
        "plt.figure(figsize=(12, 6))\n",
        "sns.jointplot(\n",
        "    x='VlProducaoAgricola', \n",
        "    y='VlProducaoPecuaria', \n",
        "    data=df, \n",
        "    kind='hex', \n",
        "    joint_kws={'gridsize': 30}, \n",
        "    marginal_kws={'color': 'darkgreen'}\n",
        ")\n",
        "plt.suptitle('Relação entre Produção Agrícola e Pecuária (Densidade e Tendência)', y=1.02)\n",
        "plt.xlabel('Produção Agrícola (R$)')\n",
        "plt.ylabel('Produção Pecuária (R$)')\n",
        "\n",
        "# Adicionar linha de regressão\n",
        "sns.regplot(x='VlProducaoAgricola', y='VlProducaoPecuaria', data=df, \n",
        "           scatter=False, color='red', line_kws={'linewidth': 2})\n",
        "\n",
        "plt.show()"
      ]
    },
    {
      "cell_type": "markdown",
      "metadata": {
        "id": "EEA6iLBOrg07"
      },
      "source": []
    },
    {
      "cell_type": "code",
      "execution_count": null,
      "metadata": {},
      "outputs": [],
      "source": [
        "# Criar métrica proxy de mecanização\n",
        "df['PessoalPorEmpresa'] = df['PessoalOcupado'] / df['QtEmpresas']\n",
        "\n",
        "# Gráfico de linhas duplas (mecanização vs. empregabilidade)\n",
        "plt.figure(figsize=(12, 6))\n",
        "sns.lineplot(x='Ano', y='PessoalPorEmpresa', data=df, \n",
        "            estimator='median', errorbar=None, \n",
        "            label='Mecanização (Pessoal/Empresa)', linewidth=2.5)\n",
        "\n",
        "sns.lineplot(x='Ano', y='PessoalOcupado', data=df, \n",
        "            estimator='median', errorbar=None, \n",
        "            label='Total Ocupados', linestyle='--')\n",
        "\n",
        "plt.title('Evolução da Mecanização vs. Empregabilidade Agrícola')\n",
        "plt.ylabel('Valor Normalizado')\n",
        "plt.legend()\n",
        "plt.grid(True)\n",
        "plt.show()"
      ]
    }
  ],
  "metadata": {
    "colab": {
      "authorship_tag": "ABX9TyOP8sD36qTF9LoEKMb2hH4E",
      "include_colab_link": true,
      "provenance": []
    },
    "kernelspec": {
      "display_name": "py_venv",
      "language": "python",
      "name": "python3"
    },
    "language_info": {
      "codemirror_mode": {
        "name": "ipython",
        "version": 3
      },
      "file_extension": ".py",
      "mimetype": "text/x-python",
      "name": "python",
      "nbconvert_exporter": "python",
      "pygments_lexer": "ipython3",
      "version": "3.10.12"
    }
  },
  "nbformat": 4,
  "nbformat_minor": 0
}
