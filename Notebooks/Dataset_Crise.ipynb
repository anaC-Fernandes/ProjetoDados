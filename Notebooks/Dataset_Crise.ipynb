{
  "cells": [
    {
      "cell_type": "markdown",
      "metadata": {},
      "source": [
        "## **Manipulação Inicial do dados sobre Crise**"
      ]
    },
    {
      "cell_type": "code",
      "execution_count": null,
      "metadata": {
        "id": "9HpZhWKYCko7"
      },
      "outputs": [],
      "source": [
        "import pandas as pd\n",
        "import numpy as np"
      ]
    },
    {
      "cell_type": "markdown",
      "metadata": {},
      "source": [
        "## **Tabela BrStats**"
      ]
    },
    {
      "cell_type": "markdown",
      "metadata": {},
      "source": [
        "Lendo o arquivo **BrStats** e definindo ';' como separador."
      ]
    },
    {
      "cell_type": "code",
      "execution_count": null,
      "metadata": {
        "colab": {
          "base_uri": "https://localhost:8080/",
          "height": 513
        },
        "collapsed": true,
        "id": "ZBEbU2Dlxe9t",
        "outputId": "1fd4b23a-6a38-4725-b91f-70457d52a846"
      },
      "outputs": [],
      "source": [
        "dados = pd.read_csv('Datasets/BrStats.csv', sep = ';', low_memory= False)\n",
        "dados"
      ]
    },
    {
      "cell_type": "markdown",
      "metadata": {},
      "source": [
        "Exibindo todas a linhas e colunas do dataset."
      ]
    },
    {
      "cell_type": "code",
      "execution_count": null,
      "metadata": {
        "colab": {
          "base_uri": "https://localhost:8080/"
        },
        "id": "5JhEajIyQ0Wi",
        "outputId": "1a66d18d-7045-4d75-856d-e80270c8adac"
      },
      "outputs": [],
      "source": [
        "pd.set_option('display.max_rows', None)  \n",
        "pd.set_option('display.max_columns', None) \n",
        "\n",
        "dados"
      ]
    },
    {
      "cell_type": "markdown",
      "metadata": {
        "id": "N81aOE1pvIZT"
      },
      "source": [
        "### Tabela BrStats contendo apenas 'UF', 'Municipio', 'Regiao'e 'PIB'"
      ]
    },
    {
      "cell_type": "markdown",
      "metadata": {},
      "source": [
        "Para responder a pergunta **9. A partir da análise do PIB, quais municípios se recuperaram da recessão de 2014-2016?** precisaremos apenas dos seguintes dados:\n",
        "- UF\n",
        "- Municipio\n",
        "- Regiao\n",
        "- PIB\n",
        "- Ano\n",
        "\n",
        "Por esse motivo fizemos uma filtragem na tabela BrStats, retirando os dados não necessãrios para essa pergunta."
      ]
    },
    {
      "cell_type": "code",
      "execution_count": null,
      "metadata": {
        "colab": {
          "base_uri": "https://localhost:8080/",
          "height": 1000
        },
        "collapsed": true,
        "id": "z_B-IuuuvMrK",
        "outputId": "f83a2e8e-742c-4343-f7d8-a27ea9786ac5"
      },
      "outputs": [],
      "source": [
        "dados_filtrados = dados[['UF', 'Municipio', 'Regiao', 'PIB', 'Ano']]\n",
        "\n",
        "dados_filtrados"
      ]
    },
    {
      "cell_type": "markdown",
      "metadata": {},
      "source": [
        "É possível salvar a nova tabela em um arquivo .csv separado:"
      ]
    },
    {
      "cell_type": "code",
      "execution_count": null,
      "metadata": {
        "id": "eJjXDW0cvlzy"
      },
      "outputs": [],
      "source": [
        "dados_filtrados.to_csv(\"Datasets/BrStats_crise.csv\", index=False)"
      ]
    },
    {
      "cell_type": "markdown",
      "metadata": {
        "id": "B8zXzO2NgwLW"
      },
      "source": [
        "## **Tabela sidra**"
      ]
    },
    {
      "cell_type": "markdown",
      "metadata": {},
      "source": [
        "Como mencionado no README, fizemos uma busca no Sidra para encontrar dados do PIB dos municípios brasileiros dos anos de 2013 (anterior a crise) até 2016 (fim da crise), o arquivo gerado é o sidra.csv.\n",
        "\n",
        "Abaixo estamos carregando e manipulando o arquivo sidra, para que possamos unir as duas tabelas de dados."
      ]
    },
    {
      "cell_type": "code",
      "execution_count": null,
      "metadata": {
        "colab": {
          "base_uri": "https://localhost:8080/"
        },
        "id": "bmtHtf-636lU",
        "outputId": "08f8ee5c-371b-4695-b7d4-5e9d5d1ad609"
      },
      "outputs": [],
      "source": [
        "# Carregando o arquivo CSV com a codificação correta UTF-8, pois estava perdendo acentos\n",
        "dados_sidra = pd.read_csv('Datasets/sidra.csv', skiprows=1, encoding='utf-8')\n",
        "\n",
        "# Renomeando as colunas\n",
        "dados_sidra.columns = ['Município', '2013', '2014', '2015', '2016', '2017']\n",
        "\n",
        "# Removendo linhas sem dados úteis que vieram do PDF (Fonte, Notas, etc.)\n",
        "dados_sidra = dados_sidra.dropna() \n",
        "dados_sidra = dados_sidra[~dados_sidra['Município'].str.contains('Fonte:|Notas|1 -', na=False)] \n",
        "\n",
        "# Salvando o arquivo corrigido com codificação UTF-8\n",
        "dados_sidra.to_csv('Datasets/sidra_limpos.csv', index=False, encoding='utf-8-sig')"
      ]
    },
    {
      "cell_type": "markdown",
      "metadata": {},
      "source": [
        "Um detalhe a ser corrigido antes de unirmos as tabelas do BrStats com a do Sidra é a maneira como municípios e UF estão registrados, enquanto o dataset BrStats possui uma coluna chamada 'UF', o dataset do Sidra escreve a UF na mesma coluna do município, e por isso devemos criar uma nova coluna nesse dataset."
      ]
    },
    {
      "cell_type": "code",
      "execution_count": null,
      "metadata": {
        "colab": {
          "base_uri": "https://localhost:8080/",
          "height": 1000
        },
        "collapsed": true,
        "id": "5v8WSmR29eF0",
        "outputId": "47583ece-27de-4e2f-ff25-e732d5e60e6e"
      },
      "outputs": [],
      "source": [
        "# Criando a coluna UF\n",
        "if 'UF' not in dados_sidra.columns:\n",
        "    dados_sidra['UF'] = ''\n",
        "\n",
        "# Separaando Município e UF\n",
        "dados_sidra[['Município', 'UF']] = dados_sidra['Município'].str.extract(r'(.+) \\((\\w{2})\\)')\n",
        "\n",
        "dados_sidra"
      ]
    },
    {
      "cell_type": "markdown",
      "metadata": {},
      "source": [
        "## **Unindo os dois Datasets**"
      ]
    },
    {
      "cell_type": "markdown",
      "metadata": {},
      "source": [
        "O dataset BrStats não possui colunas específicas para os anos em que os PIBs foram registrados, então optamos por fazer divisão para facilitar a análise."
      ]
    },
    {
      "cell_type": "code",
      "execution_count": null,
      "metadata": {
        "colab": {
          "base_uri": "https://localhost:8080/",
          "height": 1000
        },
        "collapsed": true,
        "id": "PIg5lgqMHLHr",
        "outputId": "1fb3b143-448b-43b6-fc57-a598b88548b4"
      },
      "outputs": [],
      "source": [
        "# Criando um DataFrame onde cada ano vira uma coluna\n",
        "dados = dados.pivot_table(\n",
        "    index=['UF', 'Municipio', 'Regiao'],  # Colunas que permanecerão como índice\n",
        "    columns='Ano',                        # Coluna que será transformada em novas colunas\n",
        "    values='PIB',                         # Valores que preencherão as novas colunas\n",
        "    aggfunc='first'                       # Função de agregação (usamos 'first' pois não há duplicatas)\n",
        ")\n",
        "\n",
        "# Resetar o índice para trazer UF, Municipio e Regiao de volta como colunas\n",
        "dados = dados.reset_index()\n",
        "\n",
        "dados"
      ]
    },
    {
      "cell_type": "markdown",
      "metadata": {},
      "source": [
        "Outro problema a ser corrigido é a coluna 'Municipio' no dataset do Sidra, que possui acentuação, enquanto a do BrStats não possui, e precisaremos que elas possuam nomeclatura idêntica para uni-las."
      ]
    },
    {
      "cell_type": "code",
      "execution_count": null,
      "metadata": {
        "colab": {
          "base_uri": "https://localhost:8080/"
        },
        "id": "IWIbFPjHOqld",
        "outputId": "bc539af3-f525-4b03-da2b-98642385a902"
      },
      "outputs": [],
      "source": [
        "dados_sidra = dados_sidra.rename(columns={'Município': 'Municipio'})"
      ]
    },
    {
      "cell_type": "markdown",
      "metadata": {},
      "source": [
        "Unindo os dois datasets utilizando como base as colunas 'Municipio' e 'UF'."
      ]
    },
    {
      "cell_type": "code",
      "execution_count": null,
      "metadata": {
        "colab": {
          "base_uri": "https://localhost:8080/",
          "height": 1000
        },
        "collapsed": true,
        "id": "vRtNJJQBVijd",
        "outputId": "76dc6e30-8b3e-4a77-d92c-d235a72382d7"
      },
      "outputs": [],
      "source": [
        "dados_crise = dados.merge(dados_sidra, on=['Municipio', 'UF'])\n",
        "\n",
        "# Salvar o arquivo corrigido com codificação UTF-8\n",
        "dados_crise.to_csv('Datasets/dados_crise.csv', index=False, encoding='utf-8-sig')\n",
        "\n",
        "dados_crise"
      ]
    },
    {
      "cell_type": "markdown",
      "metadata": {},
      "source": [
        "É possível perceber que o dataset ainda precisa de alguns ajustes, como ordenar corretamente os anos e remover os que se repetem."
      ]
    },
    {
      "cell_type": "code",
      "execution_count": null,
      "metadata": {},
      "outputs": [],
      "source": [
        "dados_crise = pd.read_csv('Datasets/dados_crise.csv')\n",
        "dados_crise"
      ]
    },
    {
      "cell_type": "code",
      "execution_count": null,
      "metadata": {
        "colab": {
          "base_uri": "https://localhost:8080/",
          "height": 1000
        },
        "collapsed": true,
        "id": "9oZfkdNuoDVO",
        "outputId": "93562d2e-5613-4c25-feff-d71634372838"
      },
      "outputs": [],
      "source": [
        "# Removendo colunas duplicadas\n",
        "cols_to_remove = ['2016.1', '2017.1']\n",
        "dados_crise = dados_crise.drop(columns=[col for col in cols_to_remove if col in dados_crise.columns])\n",
        "\n",
        "# Reordenando colunas\n",
        "fixed_cols = ['UF', 'Municipio', 'Regiao']\n",
        "year_cols = sorted([col for col in dados_crise.columns if col.isdigit()])\n",
        "dados_crise = dados_crise[fixed_cols + year_cols]\n",
        "\n",
        "# Salvando o resultado\n",
        "output_file = 'Datasets/dados_final.csv'\n",
        "dados_crise.to_csv(output_file, index=False)\n",
        "\n",
        "dados_crise"
      ]
    },
    {
      "cell_type": "markdown",
      "metadata": {},
      "source": [
        "Com isso obtivemos um dataset com apenas os dados necessários para a análise do PIB antes, durante e depois da crise de 2014-2016."
      ]
    }
  ],
  "metadata": {
    "colab": {
      "gpuType": "T4",
      "provenance": []
    },
    "kernelspec": {
      "display_name": "Python 3",
      "name": "python3"
    },
    "language_info": {
      "codemirror_mode": {
        "name": "ipython",
        "version": 3
      },
      "file_extension": ".py",
      "mimetype": "text/x-python",
      "name": "python",
      "nbconvert_exporter": "python",
      "pygments_lexer": "ipython3",
      "version": "3.12.5"
    }
  },
  "nbformat": 4,
  "nbformat_minor": 0
}
